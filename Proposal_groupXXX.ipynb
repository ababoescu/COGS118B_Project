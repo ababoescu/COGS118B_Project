{
 "cells": [
  {
   "cell_type": "markdown",
   "metadata": {},
   "source": [
    "# COGS 118B - Project Proposal"
   ]
  },
  {
   "cell_type": "markdown",
   "metadata": {},
   "source": [
    "# Names\n",
    "\n",
    "Hopefully your team is at least this good. Obviously you should replace these with your names.\n",
    "\n",
    "- Ana Maria Baboescu\n",
    "- Bradley Grace\n",
    "- Fatima Enriquez\n",
    "- Lucy Giang\n",
    "- Stephanie Frianeza"
   ]
  },
  {
   "cell_type": "markdown",
   "metadata": {},
   "source": [
    "# Abstract \n",
    "The goal of our project is to create a classification, from our data, of the different music genres. What the data used represents are the different factors that contribute to music such as frequencies, durations, artist information, and different genres. The data we decided to utilize are measured using amplitude, frequencies, and Mel frequency. With this data, what we wish to accomplish is to perform dimensionality reduction. To do so,  we will perform exploratory data analysis and further clean it to be able to classify different genres. Success will be measured based on the classification of the genres of songs based on their characteristics and by utilizing statistical analysis to determine the correlation between the data points."
   ]
  },
  {
   "cell_type": "markdown",
   "metadata": {},
   "source": [
    "# Background\n",
    "\n",
    "\n",
    "There has been ample amounts of research in the realm of music genre classification. This is in part because music is paramount in one’s culture and daily life. The music that one gets recommended on applications such as Spotfy/Pandora is classified using the different deep and machine learning approaches. In this manner, the greater “accuracy” for recommendations is best for the consumer because they will listen to music similar to what they already listen to <a name=\"cite_ref-1\"></a>[<sup>1</sup>](#cite_note-1).\n",
    "Thus, the challenge for researchers is to understand what is the best model to use in order to classify the different genres. Convolutional Neural Network (CNN) and algorithms such as “Logistic Regression…[and] Random forest” have been utilized to extract the information from the Mel-frequencies. What Bahuleyan did at the University of Waterloo, Canada was take the data, sound waves and project them as spectrograms. In this manner, CNN can predict the genre of music. Subsequently, within their study, they depicted that there are two manners that can drive results in one manner over another. The transfer learning setting is essentially where the pre-trained weights are altered only in the manner of the feed-forward network. Additionally, the other setting is fine tuning the weights of the training process. Apart from these two settings, they also linked with the ideas of utilizing other machine learning applications. Yet, what was concluded was that between the two manners, there is no statistically significant difference in the genre classification of music. Subsequently, what they found as some of the best models for music genre classification problems was using the CNN approach or utilizing the XGBoost classifier <a name=\"cite_ref-2\"></a>[<sup>2</sup>](#cite_note-2). In this manner, the XGBoost is one of the preferred algorithms of machine learning because of its greater accuracy score over others such as random forest  <a name=\"cite_ref-3\"></a>[<sup>3</sup>](#cite_note-3). \n",
    "Furthermore, a similar approach has been conducted using the Free Music Archive dataset with different algorithms such as the CNN, Logistic Regression, and Artificial Neural Networks (ANN). Contrary to what most might believe, the ANN deep learning algorithm did not have the greatest score in terms of prediction accuracy. The CNN model, as aforementioned in the study above, actually proved to have the highest accuracy score of 88.54%. However, within their conclusion, the researchers determined that the CNN model is the best approach when working with spectrogram images; yet, ANN is “the best feature based classifier” <a name=\"cite_ref-1\"></a>[<sup>1</sup>](#cite_note-1). \n",
    "\n",
    "\n"
   ]
  },
  {
   "cell_type": "markdown",
   "metadata": {},
   "source": [
    "# Problem Statement\n",
    "\n",
    "For our project, we plan to analyze datasets based on musical characteristics and come up with an efficient music genre classification system. Our dataset(s) will include important attributes that compose music, such as frequencies, artist information, and duration. One (unsupervised) ML-relevant potential solution we have in mind is using the K-means and/or hierarchical algorithms for clustering. We also plan to utilize dimensionality reduction methods such as PCA (Principal Component Analysis) to make our datasets less complex and easier to analyze for clustering purposes and ultimately, classification. \n",
    "\n",
    "\n",
    "In order to make our problem quantifiable, we can incorporate certain metrics into our project like silhouette score, as well as cluster purity, both of which help us numerically evaluate the effectiveness of our algorithms. To make our problem measurable, we can include a visual inspection/assessment of the clusters formed by our algorithms, as well as incorporate metrics like precision, recall (True Positivity rate), accuracy, and F1-score. Our team plans to perform multiple iterations of the task at hand, as well as document the entire development process. This would include preprocessing, model training, and analysis of the data, which allows for our ideas to be reproduced by other people. \n"
   ]
  },
  {
   "cell_type": "markdown",
   "metadata": {},
   "source": [
    "# Data\n",
    "\n",
    "FMA: A Dataset for Music Analysis\n",
    "- Link: https://archive.ics.uci.edu/dataset/386/fma+a+dataset+for+music+analysis\n",
    "- Description: The dataset consists of 106,574 music tracks, each accompanied by additional features including song title, album, artist, genres, play counts, favorites, comments, description, biography, tags, and the audio of the track itself. It can be downloaded in four different size types: small, medium, large, full.\n",
    "- Observations: 106,574\n",
    "- Critical variables (how are they represented): There are a total of nine audio features (consisting of 518 attributes) for each of the 106,574 tracks. Each feature is represented as a real number.\n",
    "- Special handling/cleaning: No missing values, but it will need to be checked for duplicates, skewed distributions, and any other inconsistencies within the dataset. The dataset will also require processing to align with our objective of analyzing and classifying musical datasets of different genres.\n",
    "\n",
    "Spotify Dataset\n",
    "- Link: https://www.kaggle.com/datasets/sanjanchaudhari/spotify-dataset\n",
    "- Description: The dataset consists of 17,717 music tracks, accompanied by additional features including artist, album, album type, danceability, amount of energy, loudness, speechiness, acousticness, and instrumentalness.\n",
    "- Observations: 17,717\n",
    "- Critical variables (how are they represented): There are a total a nine features (artist, album, album type, danceability, amount of energy, loudness, speechiness, acousticness, and instrumentalness)\n",
    "- Special handling/cleaning: There are no values that are missing. The data will need to be checked for duplicates when being compared to other datasets, this will require a bit of cleaning and aligning of data\n",
    "\n",
    "\n",
    "500 Greatest Songs of all Time\n",
    "- Link: https://www.kaggle.com/datasets/omarhanyy/500-greatest-songs-of-all-time \n",
    "- Description: This dataset contains Rolling Stone’s definitive list of the 500 greatest songs of all time with attributes such as title, description, artist, etc.\n",
    "- Observations: 500\n",
    "- Critical variables (how are they represented): There are 9 critical features (title, song description, where it appears on, artist, writers, producer, released date, streak, song position)\n",
    "- Special handling/cleaning: This dataset is smaller in comparison to the other datasets and may need to be edited and cleaned when merged with our other datasets. This dataset will also be checked for duplicates and cleaned.\n",
    "\n",
    "\n",
    "Prediction of Music Genre\n",
    "- Link: https://www.kaggle.com/datasets/vicsuperman/prediction-of-music-genre/data \n",
    "- Description: Prediction of music genre provides a full list of genres included in the CSV are 'Electronic', 'Anime', 'Jazz', 'Alternative', 'Country', 'Rap', 'Blues', 'Rock', 'Classical', 'Hip-Hop'.\n",
    "- Observations: 41,700\n",
    "- Critical variables (how are they represented): There are 18 critical features (instance id, artist, track name, popularity, acousticness, danceability, duration in ms, energy, instrumentalness, music key, liveness, loudness, mode, speechiness, tempo, obtained date, valence, music genre). Majority of these features are tracked numerically with the exception of artist name, music key, and track name.\n",
    "- Special handling/cleaning: This dataset will be checked for duplications and cleaned. There will also be several features being cut such as valence and duration since it is not relevant to our focus. This dataset will also be edited in order to be able to merge with the other datasets.\n",
    "\n",
    "\n",
    "Music Genre Classification\n",
    "- Link: https://www.kaggle.com/datasets/harish24/music-genre-classification\n",
    "- Description: Music Genre Classification: Classification of different types of music genres by studying frequencies\n",
    "- Observations: 1,000\n",
    "- Critical variables (how are they represented): There are 10 critical features (music file, chroma stft, rmse, spectral centroid, spectral bandwidth, roll off, zero crossing rate, mfcc1, mfcc2, mfcc3). These features are tracked numerically by using frequencies.\n",
    "- Special handling/cleaning: This dataset will be checked for duplicates and cleaned. This specific dataset focuses on frequencies within the music and will be used to compare with the other datasets.\n",
    "\n",
    "\n",
    "A Dataset For Music Analysis\n",
    "- Link: https://github.com/mdeff/fma\n",
    "- Description: Music dataset used to evaluate several tasks in MIR, used for searching and organizing large music collections.\n",
    "- Observations: 8,000-106,574\n",
    "- Critical variables (how are they represented): There are 4 major variables (tracks, genres, features, echonest). \n",
    "- Special handling/cleaning: Parts of the dataset will have to be cut in order to accommodate the other datasets that are compiled.\n",
    "\n",
    "\n",
    "GTZAN Genre Collection\n",
    "- Link: https://www.kaggle.com/datasets/carlthome/gtzan-genre-collection\n",
    "- Description: This dataset was used in the paper “Musical genre classification of audio signals”, focusing on IEEE Transactions on Audio and Speech Processing 2002.\n",
    "- Observations: 1,000 (ten 100 files for each music genre)\n",
    "- Critical variables (how are they represented):  There are 10 file directories, each directory labeled for a specific genre of music (blues, classical, country, disco, hiphop, jazz, metal, pop, reggae, rock). In each directory there are 100 audio files for each specified genre. The dataset consists of 1,000 audio tracks each 30 seconds long. It contains 10 genres, each represented by 100 tracks. The tracks are all 22050 Hz monophonic 16-bit audio files in .au format.\n",
    "- Special handling/cleaning: This specific dataset will be analyzed by using the data we’ve collected from our other datasets.\n"
   ]
  },
  {
   "cell_type": "markdown",
   "metadata": {},
   "source": [
    "# Proposed Solution\n",
    "\n",
    "Some of the possible solutions that we have thought of is to manually go through each of the audio files to see if the music falls into the correct genres. The reason this solution could be applied to our project is because we are only going to be sampling a set number of audio files. However, there are many pitfalls with this proposed solution. One is that it takes ample time to go through each of the files. Hence, to combat this issue, each team member will evaluate a subset of the dataset and determine the accuracy. However, with this there is human error in the sense that each person has different ideas of what classifies a genre. \n",
    "\n",
    "Additionally, another possible solution we thought of was to measure the clusters of the different music genres using a Gaussian Mixture Model (GMM) model. \n"
   ]
  },
  {
   "cell_type": "markdown",
   "metadata": {},
   "source": [
    "# Evaluation Metrics\n",
    "\n",
    "For our evaluation metrics we will be taking from previous datasets to split into datasets, a training dataset and testing dataset, with which we shall use to both teach and test both our benchmark model and solution model. From the previous datasets we plan to use 70% of them as a training dataset, while the remaining 30% as testing dataset for the benchmark and solution model.\n",
    "\n",
    "\n",
    "We will also be measuring our models through the use of Gaussian Mixture Models clustering. The clusters will be sorted through different variables used to form a distinction between the different types of genres of music. These variables will be amplitude, frequency, dancibility of the music (tempo of the music), speechiness in the music (the number of words in the song), etc.\n"
   ]
  },
  {
   "cell_type": "markdown",
   "metadata": {},
   "source": [
    "# Ethics & Privacy"
   ]
  },
  {
   "cell_type": "markdown",
   "metadata": {},
   "source": [
    "In developing a music classification system, our team acknowledges the importance of addressing potential ethical concerns and privacy implications that may arise. We recognize the need to prioritize ethical considerations and safeguard user privacy throughout the development phases especially with our use of a dataset that relies on user behavior information. \n",
    "Ethical Considerations:\n",
    "Bias: One of the primary ethical concerns in ML-based recommendation systems is the potential for bias in the recommendations. Our team will strive to ensure that the system does not inadvertently reinforce or perpetuate biases related to race, gender, age, or other sensitive attributes. We will implement fairness-aware algorithms and regularly assess the system's performance across diverse user groups to mitigate any biases that may arise.\n",
    "Transparency: Users should have visibility into how the classification system operates and why certain classifications are made. We will prioritize transparency by documenting the algorithmic processes, providing explanations for recommendations, and enabling users to understand and control their preferences and data usage. \n",
    "User Consent: Respecting user autonomy and privacy preferences is paramount. We will incorporate mechanisms for obtaining informed consent from users regarding data collection, processing, and usage for personalized recommendations. \n",
    "\n",
    "\n",
    "Privacy Considerations: \n",
    "Data Security: Protecting sensitive user data is of utmost importance to us. We will adopt a data minimization approach, collecting only necessary data required for our classification system in order to safeguard user data throughout its lifecycle.\n",
    "Anonymity: Wherever possible, we will anonymize or de-identify user data to protect individual privacy while still enabling effective system performance. This includes using techniques such as differential privacy to prevent the re-identification of individuals from aggregated data.\n",
    "\n",
    "\n",
    "Our team recognizes that despite proactive measures, unforeseen ethical dilemmas and privacy challenges may emerge once the system is in production. To address these issues, we will establish continuous monitoring, conduct regular ethical audits using tools like Deon (https://deon.drivendata.org), and remain responsive to emerging ethical guidelines and regulatory frameworks.\n"
   ]
  },
  {
   "cell_type": "markdown",
   "metadata": {},
   "source": [
    "# Team Expectations "
   ]
  },
  {
   "cell_type": "markdown",
   "metadata": {},
   "source": [
    "Below are a list of Team Expectations:\n",
    "* *Stay up to date with the iMessage group chat as much as possible. Especially near deadlines.*\n",
    "* *Be friendly, respectful and understanding of each other.*\n",
    "* *Contribute!*\n",
    "* *Do not wait until the last minute to start working on your individual part(s) of the project*\n",
    "* *Communicate with other group members if you need help, or if there are scheduling conflicts*\n",
    "* *Split up work evenly amongst all group members*\n",
    "* *Arrive to meetings on time*"
   ]
  },
  {
   "cell_type": "markdown",
   "metadata": {},
   "source": [
    "# Project Timeline Proposal"
   ]
  },
  {
   "cell_type": "markdown",
   "metadata": {},
   "source": [
    "Replace this with something meaningful that is appropriate for your needs. It doesn't have to be something that fits this format.  It doesn't have to be set in stone... \"no battle plan survives contact with the enemy\". But you need a battle plan nonetheless, and you need to keep it updated so you understand what you are trying to accomplish, who's responsible for what, and what the expected due dates are for each item.\n",
    "\n",
    "| Meeting Date  | Meeting Time| Completed Before Meeting  | Discuss at Meeting |\n",
    "|---|---|---|---|\n",
    "| 2/12  |  6 PM |  Brainstorm topics/questions (all)  | Determine best form of communication; Discuss and decide on final project topic; discuss hypothesis; begin background research | \n",
    "| 2/13  |  8 PM |  Do background research on topic  | Discuss ideal dataset(s) and ethics; draft project proposal | \n",
    "| 2/19  | 7:30 AM  | Edit, finalize, and submit proposal; Search for datasets  | Discuss Wrangling and possible analytical approaches; Assign group members to lead each specific part   |\n",
    "| 2/29  | 6 PM  | Import & Wrangle Data ,do some EDA  | Review/Edit wrangling/EDA; Discuss Analysis Plan   |\n",
    "| 3/7  | 6 PM  | Finalize wrangling/EDA; Begin programming for project | Discuss/edit project code; Complete project |\n",
    "| 3/13  | 6 PM  | Complete analysis; Draft results/conclusion/discussion | Discuss/edit full project |\n",
    "| 3/19  | Before 11:59 PM  | NA | Turn in Final Project  |"
   ]
  },
  {
   "cell_type": "markdown",
   "metadata": {},
   "source": [
    "# Footnotes\n",
    "1. <a name=\"cite_note-1\"></a> [^](#cite_ref-1) Chillar, Snigdha et al. (May 2019) Music Genre Classification using Machine Learning Algorithms: A comparison. *International Research Journal of Engineering and Technology (IRJET)*. https://d1wqtxts1xzle7.cloudfront.net/59934287/IRJET-V6I517420190704-120568-1u4iafr-libre.pdf?1562308085=&response-content-disposition=inline%3B+filename%3DIRJET_Music_Genre_Classification_using_M.pdf&Expires=1708407619&Signature=WRJ6JnCTvv8fyWmo~A-SzVQ2DRT77pSZFX8tmlz7YCCB7J5ZMkrJpugkiwlJT7DoaCR-d2jI6IfGjgYXI9-EsJlVANQ~gJY04gUz9H4zkZG-HiyimSeXcAkK58Rqp06qgvlu-yx5zcM1wNxrnhgASBQEvVBkhyQMxETbkgtLYzw40gKVZFeioo0Qjj7aqC-YDzGwlzlnXhNss4xlBsBj7PdyTFgGu2cM8ky8g3XsqA1yIIuiO4cr0SEcCJU8orRATVTpB388Nud0GvNiGOz6DAhpoCBLEqrsYxFHk2jOut7x1TPs91ECXgG1SwjPE03vlYoeAMEkdV5pasBm1yZDeQ__&Key-Pair-Id=APKAJLOHF5GGSLRBV4ZA\n",
    "\n",
    "2. <a name=\"cite_note-2\"></a> [^](#cite_ref-2) Bahuleyan, Hareesh( 3 April 2018) Music Genre Classification using Machine Learning Techniques. Cornell University. https://doi.org/10.48550/arXiv.1804.01149\n",
    "\n",
    "3. <a name=\"cite_note-3\"></a> [^](#cite_ref-3) Wohlwend, Brandon (23 July 2023) Decision Tree, Random Forest, and XGBoost: An Exploration into the Heart of Machine Learning. Medium. https://medium.com/@brandon93.w/decision-tree-random-forest-and-xgboost-an-exploration-into-the-heart-of-machine-learning-90dc212f4948#:~:text=Random%20Forests%20build%20on%20this,that%20often%20outperforms%20many%20others.\n"
   ]
  },
  {
   "cell_type": "code",
   "execution_count": null,
   "metadata": {},
   "outputs": [],
   "source": []
  }
 ],
 "metadata": {
  "kernelspec": {
   "display_name": "Python 3 (ipykernel)",
   "language": "python",
   "name": "python3"
  },
  "language_info": {
   "codemirror_mode": {
    "name": "ipython",
    "version": 3
   },
   "file_extension": ".py",
   "mimetype": "text/x-python",
   "name": "python",
   "nbconvert_exporter": "python",
   "pygments_lexer": "ipython3",
   "version": "3.10.0"
  }
 },
 "nbformat": 4,
 "nbformat_minor": 2
}
